{
 "cells": [
  {
   "cell_type": "code",
   "execution_count": null,
   "id": "29e95c03-c84f-4e16-8b24-e49ff0ccce86",
   "metadata": {
    "colab": {
     "base_uri": "https://localhost:8080/"
    },
    "id": "29e95c03-c84f-4e16-8b24-e49ff0ccce86",
    "outputId": "724174c6-6b1e-4ae9-c076-62bad904ac71"
   },
   "outputs": [],
   "source": [
    "!python -m pip install --upgrade pip\n",
    "!pip -q install --upgrade transformers\n",
    "!pip -q install --upgrade accelerate\n",
    "!pip -q install --upgrade torch\n",
    "!pip -q install --upgrade sentencepiece\n",
    "!pip install --upgrade tokenizers"
   ]
  },
  {
   "cell_type": "code",
   "execution_count": null,
   "id": "70caaf67-79b6-4ae7-8db9-70cf6ecebf10",
   "metadata": {
    "colab": {
     "base_uri": "https://localhost:8080/"
    },
    "id": "70caaf67-79b6-4ae7-8db9-70cf6ecebf10",
    "outputId": "da3cdba3-d403-45af-b907-eb3b436a07b9"
   },
   "outputs": [],
   "source": [
    "!python -V"
   ]
  },
  {
   "cell_type": "code",
   "execution_count": null,
   "id": "hy7Des57VX5d",
   "metadata": {
    "colab": {
     "base_uri": "https://localhost:8080/"
    },
    "id": "hy7Des57VX5d",
    "outputId": "040923ea-66df-41be-9ff5-702668e57bb3"
   },
   "outputs": [],
   "source": [
    "from google.colab import drive\n",
    "\n",
    "drive.mount(\"/content/drive\")"
   ]
  },
  {
   "cell_type": "code",
   "execution_count": null,
   "id": "8504eb2e-cd95-4ffe-9ef0-b35ee7ca239e",
   "metadata": {
    "colab": {
     "base_uri": "https://localhost:8080/"
    },
    "id": "8504eb2e-cd95-4ffe-9ef0-b35ee7ca239e",
    "outputId": "92791940-5ee2-4eb5-8f67-69e8773c119a"
   },
   "outputs": [],
   "source": [
    "!ls '/content/drive/MyDrive/Colab Files/llama/LLaMA'"
   ]
  },
  {
   "cell_type": "code",
   "execution_count": null,
   "id": "ca4f929e-b893-4ecf-88da-1377275d4497",
   "metadata": {
    "colab": {
     "base_uri": "https://localhost:8080/"
    },
    "id": "ca4f929e-b893-4ecf-88da-1377275d4497",
    "outputId": "d07239f5-79c8-422f-b052-705be0e685db"
   },
   "outputs": [],
   "source": [
    "!git clone https://github.com/huggingface/transformers.git"
   ]
  },
  {
   "cell_type": "code",
   "execution_count": null,
   "id": "738d6e94-01ba-48ae-99cf-44c6aa10805f",
   "metadata": {
    "colab": {
     "base_uri": "https://localhost:8080/"
    },
    "id": "738d6e94-01ba-48ae-99cf-44c6aa10805f",
    "outputId": "e38d5ff0-19ec-4199-f222-e2cdbc5ce615"
   },
   "outputs": [],
   "source": [
    "!ls"
   ]
  },
  {
   "cell_type": "code",
   "execution_count": null,
   "id": "52f0649b-52e3-49c0-aff8-c181f458f456",
   "metadata": {
    "colab": {
     "base_uri": "https://localhost:8080/"
    },
    "id": "52f0649b-52e3-49c0-aff8-c181f458f456",
    "outputId": "52f35fbe-706d-469a-9707-5a967a437c6f"
   },
   "outputs": [],
   "source": [
    "!python transformers/src/transformers/models/llama/convert_llama_weights_to_hf.py \\\n",
    "  --input_dir '/content/drive/MyDrive/Colab Files/llama/LLaMA' --model_size 7B --output_dir '/content/drive/MyDrive/Colab Files/llama/LLaMA/hf/7B'"
   ]
  },
  {
   "cell_type": "code",
   "execution_count": null,
   "id": "WFOExagHVRfl",
   "metadata": {
    "id": "WFOExagHVRfl"
   },
   "outputs": [],
   "source": []
  }
 ],
 "metadata": {
  "accelerator": "GPU",
  "colab": {
   "gpuType": "T4",
   "machine_shape": "hm",
   "provenance": []
  },
  "interpreter": {
   "hash": "301faebbd5cea7fd4466786a19f1bea9d8baf657aaca95ef39840c46b8697603"
  },
  "kernelspec": {
   "display_name": "Python 3",
   "name": "python3"
  },
  "language_info": {
   "codemirror_mode": {
    "name": "ipython",
    "version": 3
   },
   "file_extension": ".py",
   "mimetype": "text/x-python",
   "name": "python",
   "nbconvert_exporter": "python",
   "pygments_lexer": "ipython3",
   "version": "3.8.8"
  }
 },
 "nbformat": 4,
 "nbformat_minor": 5
}
