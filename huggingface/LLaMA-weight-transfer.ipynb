{
 "cells": [
  {
   "cell_type": "code",
   "execution_count": null,
   "id": "29e95c03-c84f-4e16-8b24-e49ff0ccce86",
   "metadata": {},
   "outputs": [],
   "source": [
    "!python -m pip install --upgrade pip\n",
    "!pip -q install --upgrade transformers\n",
    "!pip -q install --upgrade accelerate\n",
    "!pip -q install --upgrade torch\n",
    "!pip -q install --upgrade sentencepiece\n",
    "!pip install --upgrade tokenizers"
   ]
  },
  {
   "cell_type": "code",
   "execution_count": null,
   "id": "70caaf67-79b6-4ae7-8db9-70cf6ecebf10",
   "metadata": {},
   "outputs": [],
   "source": [
    "!python -V"
   ]
  },
  {
   "cell_type": "code",
   "execution_count": null,
   "id": "8504eb2e-cd95-4ffe-9ef0-b35ee7ca239e",
   "metadata": {},
   "outputs": [],
   "source": [
    "!ls '/Volumes/Extreme Pro/llama/LLaMA/7B'"
   ]
  },
  {
   "cell_type": "code",
   "execution_count": null,
   "id": "ca4f929e-b893-4ecf-88da-1377275d4497",
   "metadata": {},
   "outputs": [],
   "source": [
    "!git clone https://github.com/huggingface/transformers.git"
   ]
  },
  {
   "cell_type": "code",
   "execution_count": null,
   "id": "738d6e94-01ba-48ae-99cf-44c6aa10805f",
   "metadata": {},
   "outputs": [],
   "source": [
    "!ls"
   ]
  },
  {
   "cell_type": "code",
   "execution_count": null,
   "id": "52f0649b-52e3-49c0-aff8-c181f458f456",
   "metadata": {},
   "outputs": [],
   "source": [
    "!python transformers/src/transformers/models/llama/convert_llama_weights_to_hf.py \\\n",
    "    --input_dir '/Volumes/Extreme Pro/llama/LLaMA' \\\n",
    "    --model_size 7B \\ \n",
    "    --output_dir '/Volumes/Extreme Pro/llama/LLaMA/hf/7B' \\"
   ]
  },
  {
   "cell_type": "code",
   "execution_count": null,
   "id": "cfbf9442-0e43-4f80-bd37-3a90fc25489c",
   "metadata": {},
   "outputs": [],
   "source": [
    "!ls"
   ]
  },
  {
   "cell_type": "code",
   "execution_count": null,
   "metadata": {},
   "outputs": [],
   "source": []
  }
 ],
 "metadata": {
  "interpreter": {
   "hash": "301faebbd5cea7fd4466786a19f1bea9d8baf657aaca95ef39840c46b8697603"
  },
  "kernelspec": {
   "display_name": "Python 3.8.8 64-bit ('base': conda)",
   "name": "python3"
  },
  "language_info": {
   "codemirror_mode": {
    "name": "ipython",
    "version": 3
   },
   "file_extension": ".py",
   "mimetype": "text/x-python",
   "name": "python",
   "nbconvert_exporter": "python",
   "pygments_lexer": "ipython3",
   "version": "3.8.8"
  }
 },
 "nbformat": 4,
 "nbformat_minor": 5
}
